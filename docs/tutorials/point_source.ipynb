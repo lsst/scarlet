{
 "cells": [
  {
   "cell_type": "markdown",
   "metadata": {},
   "source": [
    "# Point Source Tutorial\n",
    "\n",
    "This is a quick demonstration of how to model both extended objects and point sources in the same scence. This may or may not be robust enough for crowded field photometry. We're curious about reports.\n",
    "\n",
    "First we load a simulated image cube, for which we know which sources are galaxies and which ones are stars, so we can use the appropriate source type. In practice, this would have to be guessed and potentially revised after the first attempt."
   ]
  },
  {
   "cell_type": "code",
   "execution_count": null,
   "metadata": {},
   "outputs": [],
   "source": [
    "%matplotlib inline\n",
    "import matplotlib\n",
    "import matplotlib.pyplot as plt\n",
    "# use a better colormap and don't interpolate the pixels\n",
    "matplotlib.rc('image', cmap='inferno', interpolation='none', origin='lower')\n",
    "\n",
    "import numpy as np\n",
    "import scarlet\n",
    "from scarlet.display import AsinhMapping"
   ]
  },
  {
   "cell_type": "code",
   "execution_count": null,
   "metadata": {},
   "outputs": [],
   "source": [
    "# Use this to point to the location of the data on your system\n",
    "# Load the sample images\n",
    "data = np.load(\"../../data/psf_unmatched_sim.npz\")\n",
    "images = data[\"images\"]\n",
    "filters = data[\"filters\"]\n",
    "psf = data[\"psfs\"]\n",
    "catalog = data[\"catalog\"]\n",
    "# Estimate of the background noise level\n",
    "weights = np.ones_like(images) / 2**2\n",
    "\n",
    "# display psfs\n",
    "pnorm = AsinhMapping(minimum=psf.min(), stretch=psf.max()/20, Q=20)\n",
    "prgb = scarlet.display.img_to_rgb(psf, norm=pnorm)\n",
    "plt.imshow(prgb)\n",
    "plt.show()\n",
    "\n",
    "# Use Asinh scaling for the images\n",
    "norm = AsinhMapping(minimum=images.min(), stretch=10, Q=20)\n",
    "# Map i,r,g -> RGB\n",
    "# Convert the image to an RGB image\n",
    "img_rgb = scarlet.display.img_to_rgb(images, norm=norm)\n",
    "plt.imshow(img_rgb)\n",
    "for src in catalog:\n",
    "    if src[\"is_star\"]:\n",
    "        plt.plot(src[\"x\"], src[\"y\"], \"rx\", mew=2)\n",
    "    else:\n",
    "        plt.plot(src[\"x\"], src[\"y\"], \"bx\", mew=2)\n",
    "plt.show()"
   ]
  },
  {
   "cell_type": "markdown",
   "metadata": {},
   "source": [
    "## Create Frame and Observation"
   ]
  },
  {
   "cell_type": "code",
   "execution_count": null,
   "metadata": {},
   "outputs": [],
   "source": [
    "model_psf = scarlet.GaussianPSF(sigma=0.9)\n",
    "model_frame = scarlet.Frame(images.shape, psf=model_psf, channels=filters)\n",
    "\n",
    "observation = scarlet.Observation(images, \n",
    "                                  psf=scarlet.ImagePSF(psf), \n",
    "                                  weights=weights,\n",
    "                                  channels=filters)\n",
    "observation = observation.match(model_frame)"
   ]
  },
  {
   "cell_type": "markdown",
   "metadata": {},
   "source": [
    "## Define Sources\n",
    "\n",
    "**You have to define what sources you want to fit.** \n",
    "Since we know which sources are stars (it's stored in the catalog), we can pick the proper source type. This is the situations e.g. *Gaia*-confirmed stars. In deeper observations or more crowded fields, additional logic will be needed (such as color priors on stars vs galaxies) to perform the star-galaxy separation."
   ]
  },
  {
   "cell_type": "code",
   "execution_count": null,
   "metadata": {
    "scrolled": true
   },
   "outputs": [],
   "source": [
    "# Initalize the sources\n",
    "sources = []\n",
    "for idx in np.unique(catalog[\"index\"]):\n",
    "    src = catalog[catalog[\"index\"]==idx][0]\n",
    "    if src[\"is_star\"]:\n",
    "        new_source = scarlet.PointSource(\n",
    "            model_frame, \n",
    "            (src[\"y\"], src[\"x\"]),\n",
    "            observation\n",
    "        )\n",
    "    else:\n",
    "        new_source = scarlet.ExtendedSource(\n",
    "            model_frame,\n",
    "           (src[\"y\"], src[\"x\"]),\n",
    "            observation,\n",
    "        )\n",
    "    sources.append(new_source)"
   ]
  },
  {
   "cell_type": "markdown",
   "metadata": {},
   "source": [
    "## Create Blend"
   ]
  },
  {
   "cell_type": "code",
   "execution_count": null,
   "metadata": {},
   "outputs": [],
   "source": [
    "# Initialize the Blend object, which later fits the model\n",
    "blend = scarlet.Blend(sources, observation)\n",
    "\n",
    "# Display the initial model\n",
    "model = blend.get_model()\n",
    "model_ = observation.render(model)\n",
    "img_rgb = scarlet.display.img_to_rgb(model_, norm=norm)\n",
    "plt.imshow(img_rgb)\n",
    "for src in catalog:\n",
    "    if src[\"is_star\"]:\n",
    "        plt.plot(src[\"x\"], src[\"y\"], \"rx\", mew=2)\n",
    "    else:\n",
    "        plt.plot(src[\"x\"], src[\"y\"], \"bx\", mew=2)\n",
    "plt.show()"
   ]
  },
  {
   "cell_type": "markdown",
   "metadata": {},
   "source": [
    "Our three stars (the red x's) are initialized to match their peak value with the peak of the image while the extended sources are initialized in the usual way. Note that the star centers may be a bit off, but this will be corrected by recentering them during the fit.\n",
    "\n",
    "## Fit Model and Display Results"
   ]
  },
  {
   "cell_type": "code",
   "execution_count": null,
   "metadata": {},
   "outputs": [],
   "source": [
    "%time it, logL = blend.fit(200, e_rel=1e-4)\n",
    "print(f\"scarlet ran for {it} iterations to logL = {logL}\")\n",
    "scarlet.display.show_likelihood(blend)\n",
    "plt.show()"
   ]
  },
  {
   "cell_type": "code",
   "execution_count": null,
   "metadata": {},
   "outputs": [],
   "source": [
    "scarlet.display.show_scene(sources, \n",
    "                           norm=norm, \n",
    "                           observation=observation, \n",
    "                           show_rendered=True, \n",
    "                           show_observed=True, \n",
    "                           show_residual=True)\n",
    "plt.show()"
   ]
  },
  {
   "cell_type": "code",
   "execution_count": null,
   "metadata": {},
   "outputs": [],
   "source": [
    "scarlet.display.show_sources(sources, \n",
    "                             norm=norm, \n",
    "                             observation=observation,\n",
    "                             show_rendered=True, \n",
    "                             show_observed=True,\n",
    "                             add_boxes=True\n",
    "                            )\n",
    "plt.show()"
   ]
  },
  {
   "cell_type": "markdown",
   "metadata": {},
   "source": [
    "We can see that the model overall performs well, especially in fitting the amplitude and locations of the point sources. It is worth noting that the stellar residuals have red rings and blue cores, which suggest that the PSF model of the observation is not quite correct across all bands. The extended sources are less convincing. The colors of the two galaxies are not very different, so these two sources remain poorly separated."
   ]
  }
 ],
 "metadata": {
  "kernelspec": {
   "display_name": "Python 3",
   "language": "python",
   "name": "python3"
  },
  "language_info": {
   "codemirror_mode": {
    "name": "ipython",
    "version": 3
   },
   "file_extension": ".py",
   "mimetype": "text/x-python",
   "name": "python",
   "nbconvert_exporter": "python",
   "pygments_lexer": "ipython3",
   "version": "3.7.4"
  }
 },
 "nbformat": 4,
 "nbformat_minor": 4
}
